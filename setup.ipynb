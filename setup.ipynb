{
 "cells": [
  {
   "cell_type": "markdown",
   "metadata": {},
   "source": [
    "# Setup\n",
    "\n",
    "1. Setup environment using virtualenv/conda/venv\n",
    "2. install packages from requirements.txt\n",
    "3. activate env"
   ]
  }
 ],
 "metadata": {
  "kernelspec": {
   "display_name": "Python 3.10.6 64-bit ('3.10.6')",
   "language": "python",
   "name": "python3"
  },
  "language_info": {
   "name": "python",
   "version": "3.10.6"
  },
  "orig_nbformat": 4,
  "vscode": {
   "interpreter": {
    "hash": "7ca4a393b9e3efd216a9c04485d8771bff9daf710a0701772122d6d414a5fb8d"
   }
  }
 },
 "nbformat": 4,
 "nbformat_minor": 2
}
