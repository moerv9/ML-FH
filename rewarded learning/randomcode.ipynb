{
 "cells": [
  {
   "cell_type": "code",
   "execution_count": null,
   "metadata": {},
   "outputs": [],
   "source": [
    "fig, ax = plt.subplots()\n",
    "# hide axes\n",
    "fig.patch.set_visible(False)\n",
    "ax.axis('off')\n",
    "ax.axis('tight')\n",
    "ax.table(cellText=df.values, colLabels=df.columns, loc='center')\n",
    "fig.tight_layout()\n",
    "\n",
    "plt.show()"
   ]
  },
  {
   "cell_type": "code",
   "execution_count": null,
   "metadata": {},
   "outputs": [],
   "source": [
    "\n",
    "clear_output(True)\n",
    "#plt.clf()\n",
    "#plt.setp(plt.gca(), autoscale_on=False)\n",
    "fig = plt.figure()\n",
    "ax = fig.add_subplot(111)\n",
    "plt.gca().set_aspect(\"equal\")\n",
    "plt.grid()\n",
    "plt.show()\n",
    "\n",
    "nrows, ncols = 4,4\n",
    "image = np.zeros(nrows*ncols)\n",
    "image[::2] = (nrows)\n",
    "image = image.reshape((nrows,ncols))\n",
    "row_labels = range(nrows)\n",
    "col_labels = [\"A\", \"B\", \"C\", \"D\"]\n",
    "print(image)\n",
    "plt.matshow(image)\n",
    "plt.yticks(range(nrows),row_labels)\n",
    "plt.xticks(range(ncols),col_labels)\n",
    "plt.show()"
   ]
  },
  {
   "cell_type": "code",
   "execution_count": null,
   "metadata": {},
   "outputs": [],
   "source": [
    "print(\"ROUTE\")\n",
    "print(route)\n",
    "rroute = route[::-1]\n",
    "print(\"REversed\")\n",
    "print(rroute)\n",
    "print(target_position)"
   ]
  },
  {
   "cell_type": "code",
   "execution_count": null,
   "metadata": {},
   "outputs": [],
   "source": [
    "import numpy as np\n",
    "import matplotlib.pyplot as plt\n",
    "from mpl_toolkits.mplot3d import Axes3D\n",
    "import ipywidgets as widgets\n",
    "from IPython.display import display\n",
    "%matplotlib widget\n",
    "\n",
    "# generate test data\n",
    "x = np.random.rand(100)\n",
    "y = np.random.rand(100)\n",
    "z = np.random.rand(100)\n",
    "\n",
    "\n",
    "fig = plt.figure(figsize=(6,6))\n",
    "ax = fig.add_subplot(111, projection='3d')\n",
    "ax.set_xlabel('X axis')\n",
    "ax.set_ylabel('Y axis')\n",
    "ax.set_zlabel('Z axis')\n",
    "ax.scatter(x, y, z)\n",
    "ax.view_init(20, 40)\n",
    "# show plot\n",
    "plt.show()\n",
    "\n",
    "def update_plot(angle1 = 20, angle2 = 40):\n",
    "    # set view angle\n",
    "    ax.view_init(angle1, angle2)\n",
    "    fig.canvas.draw_idle()\n",
    "\n",
    "# prepare widgets\n",
    "angle1_slider = widgets.IntSlider(20, min = 0, max = 60)\n",
    "angle1_label = widgets.Label(value = 'Angle 1 value is: ' + str(angle1_slider.value))\n",
    "display(angle1_slider, angle1_label)\n",
    "\n",
    "# handle angle 1 update\n",
    "def update_angle1(value):\n",
    "    update_plot(angle1 = value['new'])\n",
    "    angle1_label.value = 'Angle 1 value is: ' + str(value.new)\n",
    "\n",
    "angle1_slider.observe(update_angle1, names = 'value')"
   ]
  }
 ],
 "metadata": {
  "kernelspec": {
   "display_name": "Python 3.10.6 64-bit ('mlfh')",
   "language": "python",
   "name": "python3"
  },
  "language_info": {
   "codemirror_mode": {
    "name": "ipython",
    "version": 3
   },
   "file_extension": ".py",
   "mimetype": "text/x-python",
   "name": "python",
   "nbconvert_exporter": "python",
   "pygments_lexer": "ipython3",
   "version": "3.10.6"
  },
  "orig_nbformat": 4,
  "vscode": {
   "interpreter": {
    "hash": "5aaac674871e6fa794302712d94cd993d8b3a9a946c0c6adcdf7e17d4f30267d"
   }
  }
 },
 "nbformat": 4,
 "nbformat_minor": 2
}
