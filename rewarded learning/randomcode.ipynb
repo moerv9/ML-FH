{
 "cells": [
  {
   "cell_type": "code",
   "execution_count": null,
   "metadata": {},
   "outputs": [],
   "source": [
    "fig, ax = plt.subplots()\n",
    "# hide axes\n",
    "fig.patch.set_visible(False)\n",
    "ax.axis('off')\n",
    "ax.axis('tight')\n",
    "ax.table(cellText=df.values, colLabels=df.columns, loc='center')\n",
    "fig.tight_layout()\n",
    "\n",
    "plt.show()"
   ]
  },
  {
   "cell_type": "code",
   "execution_count": null,
   "metadata": {},
   "outputs": [],
   "source": [
    "\n",
    "clear_output(True)\n",
    "#plt.clf()\n",
    "#plt.setp(plt.gca(), autoscale_on=False)\n",
    "fig = plt.figure()\n",
    "ax = fig.add_subplot(111)\n",
    "plt.gca().set_aspect(\"equal\")\n",
    "plt.grid()\n",
    "plt.show()\n",
    "\n",
    "nrows, ncols = 4,4\n",
    "image = np.zeros(nrows*ncols)\n",
    "image[::2] = (nrows)\n",
    "image = image.reshape((nrows,ncols))\n",
    "row_labels = range(nrows)\n",
    "col_labels = [\"A\", \"B\", \"C\", \"D\"]\n",
    "print(image)\n",
    "plt.matshow(image)\n",
    "plt.yticks(range(nrows),row_labels)\n",
    "plt.xticks(range(ncols),col_labels)\n",
    "plt.show()"
   ]
  }
 ],
 "metadata": {
  "kernelspec": {
   "display_name": "Python 3.10.6 64-bit ('mlfh')",
   "language": "python",
   "name": "python3"
  },
  "language_info": {
   "name": "python",
   "version": "3.10.6"
  },
  "orig_nbformat": 4,
  "vscode": {
   "interpreter": {
    "hash": "5aaac674871e6fa794302712d94cd993d8b3a9a946c0c6adcdf7e17d4f30267d"
   }
  }
 },
 "nbformat": 4,
 "nbformat_minor": 2
}
