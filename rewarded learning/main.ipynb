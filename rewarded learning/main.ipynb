{
 "cells": [
  {
   "cell_type": "code",
   "execution_count": 286,
   "metadata": {},
   "outputs": [],
   "source": [
    "from matplotlib import pyplot as plt\n",
    "import numpy as np\n",
    "from random import choice\n",
    "import time\n",
    "from IPython.display import clear_output\n",
    "from time import sleep "
   ]
  },
  {
   "cell_type": "code",
   "execution_count": null,
   "metadata": {},
   "outputs": [],
   "source": [
    "\n",
    "clear_output(True)\n",
    "#plt.clf()\n",
    "#plt.setp(plt.gca(), autoscale_on=False)\n",
    "fig = plt.figure()\n",
    "ax = fig.add_subplot(111)\n",
    "plt.gca().set_aspect(\"equal\")\n",
    "plt.grid()\n",
    "plt.show()\n"
   ]
  },
  {
   "cell_type": "code",
   "execution_count": null,
   "metadata": {},
   "outputs": [],
   "source": [
    "nrows, ncols = 4,4\n",
    "image = np.zeros(nrows*ncols)\n",
    "image[::2] = (nrows)\n",
    "image = image.reshape((nrows,ncols))\n",
    "row_labels = range(nrows)\n",
    "col_labels = [\"A\", \"B\", \"C\", \"D\"]\n",
    "print(image)\n",
    "plt.matshow(image)\n",
    "plt.yticks(range(nrows),row_labels)\n",
    "plt.xticks(range(ncols),col_labels)\n",
    "plt.show()"
   ]
  },
  {
   "cell_type": "code",
   "execution_count": 275,
   "metadata": {},
   "outputs": [
    {
     "data": {
      "image/png": "[encoded data removed]",
      "text/plain": [
       "<Figure size 640x480 with 1 Axes>"
      ]
     },
     "metadata": {},
     "output_type": "display_data"
    }
   ],
   "source": [
    "x = range(4)\n",
    "y = range(4)\n",
    "h,v = np.meshgrid(x,y)  #rect grid with vector coordinates (X,Y)\n",
    "#min_max = np.min(x), np.max(x), np.min(y), np.max(y) \n",
    "res = np.add.outer(range(4), range(4))%2  # returns product of two vectors\n",
    "positions=np.vstack([h.ravel(), v.ravel()]).T\n",
    "start_position = choice(positions)\n",
    "target_position = choice(positions)\n",
    "possible_moves = [-1, 0, 1]\n",
    "\n",
    "def draw_board():\n",
    "\n",
    "    plt.xticks(minor=False)\n",
    "    plt.yticks(minor=False)\n",
    "    start_dot = plt.scatter(start_position[0],start_position[1],color=\"r\")\n",
    "    target_dot = plt.scatter(target_position[0],target_position[1],color=\"g\")\n",
    "    plt.imshow(res, cmap=\"tab20c\")\n",
    "\n",
    "if not np.array_equal(start_position,target_position):\n",
    "    draw_board()\n"
   ]
  },
  {
   "cell_type": "code",
   "execution_count": 300,
   "metadata": {},
   "outputs": [
    {
     "name": "stdout",
     "output_type": "stream",
     "text": [
      "Target reached!\n",
      "Route: [[1, 0], [0, 1], [0, 2], [0, 1], [0, 0], [1, 0], [0, 0], [0, 1], [1, 1], [0, 1], [1, 1], [1, 2], [0, 2], [0, 3], [0, 2], [1, 1], [0, 2], [0, 3], [1, 2], [2, 2], [2, 1], [3, 0]]\n"
     ]
    },
    {
     "data": {
      "image/png": "[encoded data removed]",
      "text/plain": [
       "<Figure size 640x480 with 1 Axes>"
      ]
     },
     "metadata": {},
     "output_type": "display_data"
    }
   ],
   "source": [
    "route = []\n",
    "stepcounter = 0\n",
    "route.append([start_position[0], start_position[1]])\n",
    "newposx, newposy = 0, 0\n",
    "while True:\n",
    "    clear_output(True)\n",
    "    draw_board()\n",
    "    movex = choice(possible_moves)\n",
    "    movey = choice(possible_moves)\n",
    "    last_pos = route[-1]\n",
    "    if movex == movey:\n",
    "        continue\n",
    "    if movex != 0 or movey != 0:\n",
    "        newposx = last_pos[0] + movex\n",
    "        newposy = last_pos[1] + movey\n",
    "        if newposx >= 0 and newposx <= 3 and newposy >= 0 and newposy <= 3:\n",
    "            #print(f\"New pos: {newposx, newposy}\")\n",
    "            route.append([newposx, newposy])\n",
    "            plt.scatter(newposx, newposy, color=\"m\")\n",
    "        if newposx == target_position[0] and newposy == target_position[1]:\n",
    "            print(\"Target reached!\")\n",
    "            break\n",
    "    plt.show()\n",
    "    # inp = input(\"Explore\")\n",
    "    # if inp == \"c\":\n",
    "    #     break\n",
    "print(f\"Route: {route}\")"
   ]
  }
 ],
 "metadata": {
  "kernelspec": {
   "display_name": "Python 3.10.6 64-bit ('mlfh')",
   "language": "python",
   "name": "python3"
  },
  "language_info": {
   "codemirror_mode": {
    "name": "ipython",
    "version": 3
   },
   "file_extension": ".py",
   "mimetype": "text/x-python",
   "name": "python",
   "nbconvert_exporter": "python",
   "pygments_lexer": "ipython3",
   "version": "3.10.6"
  },
  "orig_nbformat": 4,
  "vscode": {
   "interpreter": {
    "hash": "5aaac674871e6fa794302712d94cd993d8b3a9a946c0c6adcdf7e17d4f30267d"
   }
  }
 },
 "nbformat": 4,
 "nbformat_minor": 2
}
