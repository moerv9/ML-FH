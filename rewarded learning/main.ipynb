{
 "cells": [
  {
   "cell_type": "code",
   "execution_count": 152,
   "metadata": {},
   "outputs": [],
   "source": [
    "from matplotlib import pyplot as plt\n",
    "import numpy as np\n",
    "import random\n",
    "import time\n",
    "from IPython.display import clear_output"
   ]
  },
  {
   "cell_type": "code",
   "execution_count": null,
   "metadata": {},
   "outputs": [],
   "source": [
    "\n",
    "clear_output(True)\n",
    "#plt.clf()\n",
    "#plt.setp(plt.gca(), autoscale_on=False)\n",
    "fig = plt.figure()\n",
    "ax = fig.add_subplot(111)\n",
    "plt.gca().set_aspect(\"equal\")\n",
    "plt.grid()\n",
    "plt.show()\n"
   ]
  },
  {
   "cell_type": "code",
   "execution_count": null,
   "metadata": {},
   "outputs": [],
   "source": [
    "nrows, ncols = 4,4\n",
    "image = np.zeros(nrows*ncols)\n",
    "image[::2] = (nrows)\n",
    "image = image.reshape((nrows,ncols))\n",
    "row_labels = range(nrows)\n",
    "col_labels = [\"A\", \"B\", \"C\", \"D\"]\n",
    "print(image)\n",
    "plt.matshow(image)\n",
    "plt.yticks(range(nrows),row_labels)\n",
    "plt.xticks(range(ncols),col_labels)\n",
    "plt.show()"
   ]
  },
  {
   "cell_type": "code",
   "execution_count": 199,
   "metadata": {},
   "outputs": [
    {
     "data": {
      "image/png": "[encoded data removed]",
      "text/plain": [
       "<Figure size 640x480 with 1 Axes>"
      ]
     },
     "metadata": {},
     "output_type": "display_data"
    }
   ],
   "source": [
    "x = range(4)\n",
    "y = range(4)\n",
    "h,v = np.meshgrid(x,y)  #rect grid with vector coordinates (X,Y)\n",
    "#min_max = np.min(x), np.max(x), np.min(y), np.max(y) \n",
    "res = np.add.outer(range(4), range(4))%2  # returns product of two vectors\n",
    "plt.imshow(res, cmap=\"tab20c\")\n",
    "plt.xticks(minor=False)\n",
    "plt.yticks(minor=False)\n",
    "positions=np.vstack([h.ravel(), v.ravel()]).T\n",
    "start_position = random.choice(positions)\n",
    "target_position = random.choice(positions)\n",
    "start = plt.scatter(start_position[0],start_position[1],color=\"r\")\n",
    "target = plt.scatter(target_position[0],target_position[1],color=\"g\")\n",
    "plt.show()\n",
    "\n",
    "\n",
    "\n",
    "\n"
   ]
  }
 ],
 "metadata": {
  "kernelspec": {
   "display_name": "Python 3.10.6 64-bit ('mlfh')",
   "language": "python",
   "name": "python3"
  },
  "language_info": {
   "codemirror_mode": {
    "name": "ipython",
    "version": 3
   },
   "file_extension": ".py",
   "mimetype": "text/x-python",
   "name": "python",
   "nbconvert_exporter": "python",
   "pygments_lexer": "ipython3",
   "version": "3.10.6"
  },
  "orig_nbformat": 4,
  "vscode": {
   "interpreter": {
    "hash": "5aaac674871e6fa794302712d94cd993d8b3a9a946c0c6adcdf7e17d4f30267d"
   }
  }
 },
 "nbformat": 4,
 "nbformat_minor": 2
}
