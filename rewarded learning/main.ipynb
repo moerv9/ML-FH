{
 "cells": [
  {
   "cell_type": "code",
   "execution_count": 4,
   "metadata": {},
   "outputs": [],
   "source": [
    "from matplotlib import pyplot as plt\n",
    "import numpy as np\n",
    "from random import choice\n",
    "import time\n",
    "from IPython.display import clear_output\n",
    "from time import sleep \n",
    "import math\n",
    "import pandas as pd\n",
    "%matplotlib inline"
   ]
  },
  {
   "cell_type": "markdown",
   "metadata": {},
   "source": [
    "## Draw initial plot"
   ]
  },
  {
   "cell_type": "code",
   "execution_count": 10,
   "metadata": {},
   "outputs": [
    {
     "data": {
      "image/png": "[encoded data removed]",
      "text/plain": [
       "<Figure size 640x480 with 1 Axes>"
      ]
     },
     "metadata": {},
     "output_type": "display_data"
    }
   ],
   "source": [
    "x = range(4)\n",
    "y = range(4)\n",
    "h,v = np.meshgrid(x,y)  #rect grid with vector coordinates (X,Y)\n",
    "#min_max = np.min(x), np.max(x), np.min(y), np.max(y) \n",
    "res = np.add.outer(range(4), range(4))%2  # returns product of two vectors\n",
    "positions=np.vstack([h.ravel(), v.ravel()]).T\n",
    "start_position = choice(positions)\n",
    "target_position = choice(positions)\n",
    "possible_moves = [-1, 0, 1]\n",
    "\n",
    "def draw_board():\n",
    "    start_dot = plt.scatter(start_position[0],start_position[1],color=\"r\")\n",
    "    target_dot = plt.scatter(target_position[0],target_position[1],color=\"g\")\n",
    "    plt.imshow(res, cmap=\"tab20c\")\n",
    "\n",
    "if not np.array_equal(start_position,target_position):\n",
    "    draw_board()\n"
   ]
  },
  {
   "cell_type": "markdown",
   "metadata": {},
   "source": [
    "## Explore"
   ]
  },
  {
   "cell_type": "code",
   "execution_count": 19,
   "metadata": {},
   "outputs": [
    {
     "data": {
      "image/png": "[encoded data removed]",
      "text/plain": [
       "<Figure size 640x480 with 1 Axes>"
      ]
     },
     "metadata": {},
     "output_type": "display_data"
    },
    {
     "name": "stdout",
     "output_type": "stream",
     "text": [
      "Target reached!\n",
      "Total Steps: 32\n",
      "Route: [[1, 1], [0, 1], [1, 1], [0, 1], [0, 0], [1, 0], [0, 0], [0, 1], [0, 2], [1, 2], [0, 2], [0, 1], [0, 2], [1, 2], [1, 3], [2, 3], [3, 3], [3, 2], [3, 3], [3, 2], [3, 3], [2, 3], [3, 3], [2, 3], [2, 2]]\n"
     ]
    }
   ],
   "source": [
    "route = []\n",
    "stepcounter = 0\n",
    "route.append([start_position[0], start_position[1]])\n",
    "newposx, newposy = 0, 0\n",
    "\n",
    "while True:\n",
    "    clear_output(True)\n",
    "    movex = choice(possible_moves)\n",
    "    movey = choice(possible_moves)\n",
    "    last_pos = route[-1]\n",
    "    draw_board()\n",
    "    sleep(0.2)\n",
    "    if not movex == movey:\n",
    "        if movex == 0 or movey == 0:\n",
    "            newposx = last_pos[0] + movex\n",
    "            newposy = last_pos[1] + movey\n",
    "            if newposx >= 0 and newposx <= 3 and newposy >= 0 and newposy <= 3:\n",
    "                # print(f\"New pos: {newposx, newposy}\")\n",
    "                route.append([newposx, newposy])\n",
    "                plt.scatter(newposx, newposy, color=\"m\")\n",
    "                plt.show()\n",
    "            if newposx == target_position[0] and newposy == target_position[1]:\n",
    "                print(\"Target reached!\")\n",
    "                plt.show()\n",
    "                break\n",
    "            stepcounter += 1\n",
    "\n",
    "print(f\"Total Steps: {stepcounter}\")\n",
    "print(f\"Route: {route}\",sep=\"\\n\")\n"
   ]
  },
  {
   "cell_type": "markdown",
   "metadata": {},
   "source": [
    "## Build Table"
   ]
  },
  {
   "cell_type": "code",
   "execution_count": 21,
   "metadata": {},
   "outputs": [
    {
     "name": "stdout",
     "output_type": "stream",
     "text": [
      "{(2, 2): 1, (2, 3): 0.25418658283290013, (3, 3): 0.12157665459056934, (3, 2): 0.28242953648100005, (1, 3): 0.3486784401000001, (1, 2): 0.06461081889226676, (0, 2): 0.011972515182562034, (0, 1): 0.00041109831670569746, (0, 0): 0.018248003631400746, (1, 0): 0.13508517176729928, (1, 1): 0.00785516721127895}\n"
     ]
    },
    {
     "data": {
      "text/html": [
       "<div>\n",
       "<style scoped>\n",
       "    .dataframe tbody tr th:only-of-type {\n",
       "        vertical-align: middle;\n",
       "    }\n",
       "\n",
       "    .dataframe tbody tr th {\n",
       "        vertical-align: top;\n",
       "    }\n",
       "\n",
       "    .dataframe thead th {\n",
       "        text-align: right;\n",
       "    }\n",
       "</style>\n",
       "<table border=\"1\" class=\"dataframe\">\n",
       "  <thead>\n",
       "    <tr style=\"text-align: right;\">\n",
       "      <th></th>\n",
       "      <th>0</th>\n",
       "      <th>1</th>\n",
       "      <th>2</th>\n",
       "      <th>3</th>\n",
       "    </tr>\n",
       "  </thead>\n",
       "  <tbody>\n",
       "    <tr>\n",
       "      <th>0</th>\n",
       "      <td>0.018248</td>\n",
       "      <td>0.13509</td>\n",
       "      <td>NaN</td>\n",
       "      <td>NaN</td>\n",
       "    </tr>\n",
       "    <tr>\n",
       "      <th>1</th>\n",
       "      <td>0.0004111</td>\n",
       "      <td>0.0078552</td>\n",
       "      <td>NaN</td>\n",
       "      <td>NaN</td>\n",
       "    </tr>\n",
       "    <tr>\n",
       "      <th>2</th>\n",
       "      <td>0.011973</td>\n",
       "      <td>0.064611</td>\n",
       "      <td>1</td>\n",
       "      <td>0.28243</td>\n",
       "    </tr>\n",
       "    <tr>\n",
       "      <th>3</th>\n",
       "      <td>NaN</td>\n",
       "      <td>0.34868</td>\n",
       "      <td>0.25419</td>\n",
       "      <td>0.12158</td>\n",
       "    </tr>\n",
       "  </tbody>\n",
       "</table>\n",
       "</div>"
      ],
      "text/plain": [
       "          0         1       2       3\n",
       "0  0.018248   0.13509     NaN     NaN\n",
       "1 0.0004111 0.0078552     NaN     NaN\n",
       "2  0.011973  0.064611       1 0.28243\n",
       "3       NaN   0.34868 0.25419 0.12158"
      ]
     },
     "execution_count": 21,
     "metadata": {},
     "output_type": "execute_result"
    }
   ],
   "source": [
    "# testlist = [[0, 0], [1, 0], [0, 0], [1, 0], [1, 1], [1, 2], [0, 2], [0, 1], [0, 2], [0, 1], [0, 2], [0, 1], [1, 1], [2, 1], [2, 0]]\n",
    "ttlist = [\n",
    "    tuple(x) for x in route\n",
    "]  # converts list into immutable list like [(1,3),(1,2)]\n",
    "ttlist = ttlist[::-1]  # reverses the list to go the route backwards\n",
    "vals = [[ttlist[0], 1]]  # adds target position to list\n",
    "multipliedrewards_list = dict.fromkeys(ttlist)\n",
    "ttlist.pop(0)  # deletes target position from ttlist otherwise it would be a duplicate\n",
    "q = 1\n",
    "reward = 0.9\n",
    "# create list with positions + rewarded values\n",
    "for x in ttlist:\n",
    "    vals.append([x, math.pow(reward, q)])\n",
    "    q += 1\n",
    "\n",
    "# creates table with final reward values\n",
    "# add value to table if not exist, otherwise multiply with existing value\n",
    "pd.options.display.float_format = \"{:,.5g}\".format\n",
    "df = pd.DataFrame(columns=[0, 1, 2, 3], index=[0, 1, 2, 3])\n",
    "for x in vals:\n",
    "    mrl_temp = multipliedrewards_list.get(x[0])\n",
    "    if not mrl_temp:\n",
    "        multipliedrewards_list[x[0]] = x[1]\n",
    "    else:\n",
    "        multipliedrewards_list[x[0]] = x[1] * mrl_temp\n",
    "for x in multipliedrewards_list:\n",
    "    df.at[x[0], x[1]] = multipliedrewards_list.get(x)\n",
    "\n",
    "df = df.T  # swap axis\n",
    "df"
   ]
  },
  {
   "cell_type": "markdown",
   "metadata": {},
   "source": [
    "## Exploit"
   ]
  },
  {
   "cell_type": "code",
   "execution_count": null,
   "metadata": {},
   "outputs": [],
   "source": [
    "#TODO\n",
    "route = []\n",
    "stepcounter = 0\n",
    "route.append([start_position[0], start_position[1]])\n",
    "newposx, newposy = 0, 0\n",
    "\n",
    "while True:\n",
    "    clear_output(True)\n",
    "    movex = choice(possible_moves)\n",
    "    movey = choice(possible_moves)\n",
    "    last_pos = route[-1]\n",
    "    draw_board()\n",
    "    sleep(0.2)\n",
    "    if not movex == movey:\n",
    "        if movex == 0 or movey == 0:\n",
    "            newposx = last_pos[0] + movex\n",
    "            newposy = last_pos[1] + movey\n",
    "            if newposx >= 0 and newposx <= 3 and newposy >= 0 and newposy <= 3:\n",
    "                # print(f\"New pos: {newposx, newposy}\")\n",
    "                route.append([newposx, newposy])\n",
    "                plt.scatter(newposx, newposy, color=\"m\")\n",
    "                plt.show()\n",
    "            if newposx == target_position[0] and newposy == target_position[1]:\n",
    "                print(\"Target reached!\")\n",
    "                plt.show()\n",
    "                break\n",
    "            stepcounter += 1\n",
    "\n",
    "print(f\"Total Steps: {stepcounter}\")\n",
    "print(f\"Route: {route}\",sep=\"\\n\")"
   ]
  }
 ],
 "metadata": {
  "kernelspec": {
   "display_name": "Python 3.10.6 64-bit ('mlfh')",
   "language": "python",
   "name": "python3"
  },
  "language_info": {
   "codemirror_mode": {
    "name": "ipython",
    "version": 3
   },
   "file_extension": ".py",
   "mimetype": "text/x-python",
   "name": "python",
   "nbconvert_exporter": "python",
   "pygments_lexer": "ipython3",
   "version": "3.10.6"
  },
  "orig_nbformat": 4,
  "vscode": {
   "interpreter": {
    "hash": "5aaac674871e6fa794302712d94cd993d8b3a9a946c0c6adcdf7e17d4f30267d"
   }
  }
 },
 "nbformat": 4,
 "nbformat_minor": 2
}
