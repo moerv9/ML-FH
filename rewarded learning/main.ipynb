{
 "cells": [
  {
   "cell_type": "code",
   "execution_count": 2,
   "metadata": {},
   "outputs": [],
   "source": [
    "from matplotlib import pyplot as plt\n",
    "import numpy as np\n",
    "from random import choice\n",
    "import time\n",
    "from IPython.display import clear_output\n",
    "from time import sleep \n",
    "import math\n",
    "import pandas as pd\n",
    "%matplotlib inline"
   ]
  },
  {
   "cell_type": "markdown",
   "metadata": {},
   "source": [
    "## Draw initial plot"
   ]
  },
  {
   "cell_type": "code",
   "execution_count": 3,
   "metadata": {},
   "outputs": [
    {
     "data": {
      "image/png": "[encoded data removed]",
      "text/plain": [
       "<Figure size 600x600 with 1 Axes>"
      ]
     },
     "metadata": {},
     "output_type": "display_data"
    }
   ],
   "source": [
    "x = range(4)\n",
    "y = range(4)\n",
    "h,v = np.meshgrid(x,y)  #rect grid with vector coordinates (X,Y)\n",
    "#min_max = np.min(x), np.max(x), np.min(y), np.max(y) \n",
    "res = np.add.outer(range(4), range(4))%2  # returns product of two vectors\n",
    "positions=np.vstack([h.ravel(), v.ravel()]).T\n",
    "start_position = choice(positions)\n",
    "target_position = choice(positions)\n",
    "possible_moves = [-1, 0, 1]\n",
    "\n",
    "fig = plt.figure(figsize=(6,6))\n",
    "ax = fig.add_subplot()\n",
    "\n",
    "def draw_board():\n",
    "    ax = plt.gca()\n",
    "    ax.cla()\n",
    "    ax.invert_yaxis()\n",
    "    ax.xaxis.tick_top()\n",
    "    start_dot = ax.scatter(start_position[0],start_position[1],color=\"r\")\n",
    "    target_dot = ax.scatter(target_position[0],target_position[1],color=\"g\")\n",
    "    plt.imshow(res, cmap=\"tab20c\")\n",
    "\n",
    "if not np.array_equal(start_position,target_position):\n",
    "    draw_board()\n"
   ]
  },
  {
   "cell_type": "markdown",
   "metadata": {},
   "source": [
    "## Build Table"
   ]
  },
  {
   "cell_type": "code",
   "execution_count": 5,
   "metadata": {},
   "outputs": [],
   "source": [
    "# testlist = [[0, 0], [1, 0], [0, 0], [1, 0], [1, 1], [1, 2], [0, 2], [0, 1], [0, 2], [0, 1], [0, 2], [0, 1], [1, 1], [2, 1], [2, 0]]\n",
    "def build_table(route):\n",
    "    route = [\n",
    "        tuple(x) for x in route\n",
    "    ]  # converts list into immutable list like [(1,3),(1,2)]\n",
    "    route = route[::-1]  # reverses the list to go the route backwards\n",
    "    vals = [(route[0], 1)]  # adds target position to list\n",
    "    multipliedrewards_list = dict.fromkeys(route)\n",
    "    route.pop(0)  # deletes target position from ttlist otherwise it would be a duplicate\n",
    "    q = 1\n",
    "    reward = 0.9\n",
    "    # create list with positions + rewarded values\n",
    "    for x in route:\n",
    "        vals.append([x, math.pow(reward, q)])\n",
    "        q += 1\n",
    "\n",
    "    # creates table with final reward values\n",
    "    # add value to table if not exist, otherwise multiply with existing value\n",
    "    pd.options.display.float_format = \"{:,.5g}\".format\n",
    "    df = pd.DataFrame(columns=[0, 1, 2, 3], index=[0, 1, 2, 3])\n",
    "    for x in vals:\n",
    "        mrl_temp = multipliedrewards_list.get(x[0])\n",
    "        if not mrl_temp:\n",
    "            multipliedrewards_list[x[0]] = x[1]\n",
    "        else:\n",
    "            multipliedrewards_list[x[0]] = x[1] * mrl_temp\n",
    "    for x in multipliedrewards_list:\n",
    "        df.at[x[0], x[1]] = multipliedrewards_list.get(x)\n",
    "\n",
    "    return multipliedrewards_list, df.transpose(copy=True)  # swap axis so they match the meshgrid with x and y values\n"
   ]
  },
  {
   "cell_type": "markdown",
   "metadata": {},
   "source": [
    "## Explore"
   ]
  },
  {
   "cell_type": "code",
   "execution_count": 6,
   "metadata": {},
   "outputs": [
    {
     "data": {
      "image/png": "[encoded data removed]",
      "text/plain": [
       "<Figure size 640x480 with 1 Axes>"
      ]
     },
     "metadata": {},
     "output_type": "display_data"
    },
    {
     "name": "stdout",
     "output_type": "stream",
     "text": [
      "Target reached!\n",
      "Total Steps: 17\n",
      "Route: [(2, 0), [2, 1], [3, 1], [3, 2], [3, 3], [2, 3], [1, 3], [1, 2], [1, 3], [2, 3], [2, 2], [2, 3], [1, 3], [0, 3]]\n"
     ]
    },
    {
     "data": {
      "text/html": [
       "<div>\n",
       "<style scoped>\n",
       "    .dataframe tbody tr th:only-of-type {\n",
       "        vertical-align: middle;\n",
       "    }\n",
       "\n",
       "    .dataframe tbody tr th {\n",
       "        vertical-align: top;\n",
       "    }\n",
       "\n",
       "    .dataframe thead th {\n",
       "        text-align: right;\n",
       "    }\n",
       "</style>\n",
       "<table border=\"1\" class=\"dataframe\">\n",
       "  <thead>\n",
       "    <tr style=\"text-align: right;\">\n",
       "      <th></th>\n",
       "      <th>0</th>\n",
       "      <th>1</th>\n",
       "      <th>2</th>\n",
       "      <th>3</th>\n",
       "    </tr>\n",
       "  </thead>\n",
       "  <tbody>\n",
       "    <tr>\n",
       "      <th>0</th>\n",
       "      <td>NaN</td>\n",
       "      <td>NaN</td>\n",
       "      <td>0.25419</td>\n",
       "      <td>NaN</td>\n",
       "    </tr>\n",
       "    <tr>\n",
       "      <th>1</th>\n",
       "      <td>NaN</td>\n",
       "      <td>NaN</td>\n",
       "      <td>0.28243</td>\n",
       "      <td>0.31381</td>\n",
       "    </tr>\n",
       "    <tr>\n",
       "      <th>2</th>\n",
       "      <td>NaN</td>\n",
       "      <td>0.53144</td>\n",
       "      <td>0.729</td>\n",
       "      <td>0.34868</td>\n",
       "    </tr>\n",
       "    <tr>\n",
       "      <th>3</th>\n",
       "      <td>1</td>\n",
       "      <td>0.25419</td>\n",
       "      <td>0.22877</td>\n",
       "      <td>0.38742</td>\n",
       "    </tr>\n",
       "  </tbody>\n",
       "</table>\n",
       "</div>"
      ],
      "text/plain": [
       "     0       1       2       3\n",
       "0  NaN     NaN 0.25419     NaN\n",
       "1  NaN     NaN 0.28243 0.31381\n",
       "2  NaN 0.53144   0.729 0.34868\n",
       "3    1 0.25419 0.22877 0.38742"
      ]
     },
     "execution_count": 6,
     "metadata": {},
     "output_type": "execute_result"
    }
   ],
   "source": [
    "route = []\n",
    "stepcounter = 0\n",
    "route.append((start_position[0], start_position[1]))\n",
    "newposx, newposy = 0, 0\n",
    "# testlist = [[0, 0], [1, 0], [0, 0], [1, 0], [1, 1], [1, 2], [0, 2], [0, 1], [0, 2], [0, 1], [0, 2], [0, 1], [1, 1], [2, 1], [2, 0]]\n",
    "SLEEP = 0.05\n",
    "while True:\n",
    "    clear_output(True)\n",
    "    movex = choice(possible_moves)\n",
    "    movey = choice(possible_moves)\n",
    "    last_pos = route[-1]\n",
    "    draw_board()\n",
    "    sleep(SLEEP)\n",
    "    if not movex == movey:\n",
    "        if movex == 0 or movey == 0:\n",
    "            newposx = last_pos[0] + movex\n",
    "            newposy = last_pos[1] + movey\n",
    "            ax = plt.gca()\n",
    "            if newposx >= 0 and newposx <= 3 and newposy >= 0 and newposy <= 3:\n",
    "                # print(f\"New pos: {newposx, newposy}\")\n",
    "                route.append([newposx, newposy])\n",
    "                ax.scatter(newposx, newposy, color=\"m\")\n",
    "                plt.show()\n",
    "            if newposx == target_position[0] and newposy == target_position[1]:\n",
    "                print(\"Target reached!\")\n",
    "                plt.show()\n",
    "                break\n",
    "            stepcounter += 1\n",
    "\n",
    "print(f\"Total Steps: {stepcounter}\")\n",
    "print(f\"Route: {route}\",sep=\"\\n\")\n",
    "\n",
    "rewardslist, df = build_table(route)\n",
    "df"
   ]
  },
  {
   "cell_type": "code",
   "execution_count": 8,
   "metadata": {},
   "outputs": [
    {
     "name": "stdout",
     "output_type": "stream",
     "text": [
      "(0, 3) 1\n",
      "(1, 3) 0.2541865828329001\n",
      "(2, 3) 0.22876792454961006\n",
      "(2, 2) 0.7290000000000001\n",
      "(1, 2) 0.531441\n",
      "(3, 3) 0.3874204890000001\n",
      "(3, 2) 0.3486784401000001\n",
      "(3, 1) 0.31381059609000006\n",
      "(2, 1) 0.2824295364810001\n",
      "(2, 0) 0.2541865828329001\n"
     ]
    }
   ],
   "source": [
    "## Print out rewards for each position\n",
    "for key, value in rewardslist.items():\n",
    "    print(key, value)"
   ]
  },
  {
   "cell_type": "code",
   "execution_count": 38,
   "metadata": {},
   "outputs": [
    {
     "name": "stdout",
     "output_type": "stream",
     "text": [
      "0.5\n"
     ]
    }
   ],
   "source": [
    "x = [np.nan, 0.5,2,0.1,0,0.1,0.1]\n",
    "\n",
    "u= np.unique(x)\n",
    "u = u[np.isfinite(u)]\n",
    "print(u[-2])\n",
    "# dup = u[c > 1]\n",
    "# print(dup)\n"
   ]
  },
  {
   "cell_type": "code",
   "execution_count": 37,
   "metadata": {},
   "outputs": [],
   "source": [
    "nn = [-1, 1]\n",
    "def get_next_field_vals(xpos, ypos) -> np.ndarray:\n",
    "    nghb_values = []\n",
    "    for n in nn:\n",
    "        newposx = xpos + n  # xpos = startposition[0]\n",
    "        if newposx >= 0 and newposx <= 3:\n",
    "            nghb_values.append(df[xpos + n][ypos])\n",
    "        newposy = ypos + n\n",
    "        if newposy >= 0 and newposy <= 3:\n",
    "            nghb_values.append(df[xpos][ypos + n])\n",
    "    print(f\"Neighbour values: {nghb_values}\")\n",
    "    u = np.unique(nghb_values)\n",
    "    u = u[np.isfinite(u)]\n",
    "    return u\n",
    "\n",
    "def get_max_field(max_value):\n",
    "    #print(f\"Max: {max_value}\")\n",
    "    for key, value in rewardslist.items():\n",
    "        if value == max_value:\n",
    "            print(\"field of max value:\")\n",
    "            print(f\"Value: {value}\")\n",
    "            return key[0], key[1]"
   ]
  },
  {
   "cell_type": "markdown",
   "metadata": {},
   "source": [
    "## Exploit\n",
    "Er soll alle felder drumherum checken und dann den nächst höheren nehmen \n",
    "danach: wenn die felder einen bestimmten Treshhold nicht überschreiten, nimm random.\n"
   ]
  },
  {
   "cell_type": "code",
   "execution_count": 40,
   "metadata": {},
   "outputs": [
    {
     "name": "stdout",
     "output_type": "stream",
     "text": [
      "[(2, 0), (2, 1), (2, 2), (1, 2), (1, 3)]\n",
      "lastPOS: (1, 3)\n",
      "Neighbour values: [1, 0.531441, 0.22876792454961006]\n",
      "nextfields: [0.22876792 0.531441   1.        ]\n",
      "field of max value:\n",
      "Value: 1\n",
      "Target reached!\n"
     ]
    },
    {
     "data": {
      "image/png": "[encoded data removed]",
      "text/plain": [
       "<Figure size 640x480 with 1 Axes>"
      ]
     },
     "metadata": {},
     "output_type": "display_data"
    },
    {
     "name": "stdout",
     "output_type": "stream",
     "text": [
      "Total Steps: 4\n",
      "Route: [(2, 0), (2, 1), (2, 2), (1, 2), (1, 3)]\n"
     ]
    }
   ],
   "source": [
    "# test get max value from anliegenden feldern\n",
    "# print(multipliedrewards_list)\n",
    "# print(df.at[start_position[0], start_position[1]])\n",
    "# print(df.iloc[start_position[0]][start_position[1]])\n",
    "\n",
    "route = []\n",
    "stepcounter = 0\n",
    "SLEEP = 5\n",
    "route.append((start_position[0], start_position[1]))\n",
    "\n",
    "while True:\n",
    "    clear_output(True)\n",
    "    print(route)\n",
    "    last_pos = route[-1]\n",
    "    print(f\"lastPOS: {last_pos}\")\n",
    "    next_field_vals = get_next_field_vals(last_pos[0],last_pos[1])\n",
    "    print(f\"nextfields: {next_field_vals}\")\n",
    "    newpos =  get_max_field(next_field_vals[-1])# best next field with highest value\n",
    "    sleep(SLEEP)\n",
    "    draw_board()\n",
    "    ax = plt.gca()\n",
    "    if newpos[0] == target_position[0] and newpos[1] == target_position[1]:\n",
    "        print(\"Target reached!\")\n",
    "        plt.show()\n",
    "        break\n",
    "    if newpos in route:\n",
    "        print(\"next biggest value\")\n",
    "        newpos =  get_max_field(next_field_vals[-2])# best next field with highest value\n",
    "    print(f\"new pos: {newpos}\")\n",
    "    route.append((newpos[0], newpos[1]))\n",
    "    ax.scatter(newpos[0], newpos[1], color=\"m\")\n",
    "    plt.show()\n",
    "    stepcounter += 1\n",
    "\n",
    "print(f\"Total Steps: {stepcounter}\")\n",
    "print(f\"Route: {route}\", sep=\"\\n\")  \n",
    "\n"
   ]
  }
 ],
 "metadata": {
  "kernelspec": {
   "display_name": "Python 3.10.6 64-bit ('mlfh')",
   "language": "python",
   "name": "python3"
  },
  "language_info": {
   "codemirror_mode": {
    "name": "ipython",
    "version": 3
   },
   "file_extension": ".py",
   "mimetype": "text/x-python",
   "name": "python",
   "nbconvert_exporter": "python",
   "pygments_lexer": "ipython3",
   "version": "3.10.6"
  },
  "orig_nbformat": 4,
  "vscode": {
   "interpreter": {
    "hash": "5aaac674871e6fa794302712d94cd993d8b3a9a946c0c6adcdf7e17d4f30267d"
   }
  }
 },
 "nbformat": 4,
 "nbformat_minor": 2
}
