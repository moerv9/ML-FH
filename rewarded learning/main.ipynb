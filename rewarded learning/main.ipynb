{
 "cells": [
  {
   "cell_type": "code",
   "execution_count": 12,
   "metadata": {},
   "outputs": [],
   "source": [
    "from matplotlib import pyplot as plt\n",
    "import numpy as np\n",
    "from random import choice\n",
    "import time\n",
    "from IPython.display import clear_output\n",
    "from time import sleep \n",
    "import math"
   ]
  },
  {
   "cell_type": "markdown",
   "metadata": {},
   "source": [
    "\n",
    "clear_output(True)\n",
    "#plt.clf()\n",
    "#plt.setp(plt.gca(), autoscale_on=False)\n",
    "fig = plt.figure()\n",
    "ax = fig.add_subplot(111)\n",
    "plt.gca().set_aspect(\"equal\")\n",
    "plt.grid()\n",
    "plt.show()\n",
    "\n",
    "nrows, ncols = 4,4\n",
    "image = np.zeros(nrows*ncols)\n",
    "image[::2] = (nrows)\n",
    "image = image.reshape((nrows,ncols))\n",
    "row_labels = range(nrows)\n",
    "col_labels = [\"A\", \"B\", \"C\", \"D\"]\n",
    "print(image)\n",
    "plt.matshow(image)\n",
    "plt.yticks(range(nrows),row_labels)\n",
    "plt.xticks(range(ncols),col_labels)\n",
    "plt.show()"
   ]
  },
  {
   "cell_type": "code",
   "execution_count": 13,
   "metadata": {},
   "outputs": [
    {
     "data": {
      "image/png": "[encoded data removed]",
      "text/plain": [
       "<Figure size 640x480 with 1 Axes>"
      ]
     },
     "metadata": {},
     "output_type": "display_data"
    }
   ],
   "source": [
    "x = range(4)\n",
    "y = range(4)\n",
    "h,v = np.meshgrid(x,y)  #rect grid with vector coordinates (X,Y)\n",
    "#min_max = np.min(x), np.max(x), np.min(y), np.max(y) \n",
    "res = np.add.outer(range(4), range(4))%2  # returns product of two vectors\n",
    "positions=np.vstack([h.ravel(), v.ravel()]).T\n",
    "start_position = choice(positions)\n",
    "target_position = choice(positions)\n",
    "possible_moves = [-1, 0, 1]\n",
    "\n",
    "def draw_board():\n",
    "\n",
    "    plt.xticks(minor=False)\n",
    "    plt.yticks(minor=False)\n",
    "    start_dot = plt.scatter(start_position[0],start_position[1],color=\"r\")\n",
    "    target_dot = plt.scatter(target_position[0],target_position[1],color=\"g\")\n",
    "    plt.imshow(res, cmap=\"tab20c\")\n",
    "\n",
    "if not np.array_equal(start_position,target_position):\n",
    "    draw_board()\n"
   ]
  },
  {
   "cell_type": "code",
   "execution_count": 38,
   "metadata": {},
   "outputs": [
    {
     "name": "stdout",
     "output_type": "stream",
     "text": [
      "Target reached!\n",
      "Route: [[3, 1], [2, 1], [1, 1], [2, 1], [2, 0], [2, 1], [3, 1], [3, 0], [2, 0], [1, 0], [2, 0], [3, 0], [3, 1], [2, 1], [2, 0], [2, 1], [1, 1], [0, 1]]\n",
      "Steps: 21\n"
     ]
    },
    {
     "ename": "TypeError",
     "evalue": "'NoneType' object is not subscriptable",
     "output_type": "error",
     "traceback": [
      "\u001b[0;31m---------------------------------------------------------------------------\u001b[0m",
      "\u001b[0;31mTypeError\u001b[0m                                 Traceback (most recent call last)",
      "Cell \u001b[0;32mIn [38], line 32\u001b[0m\n\u001b[1;32m     30\u001b[0m \u001b[38;5;28mprint\u001b[39m(\u001b[38;5;124mf\u001b[39m\u001b[38;5;124m\"\u001b[39m\u001b[38;5;124mSteps: \u001b[39m\u001b[38;5;132;01m{\u001b[39;00mstepcounter\u001b[38;5;132;01m}\u001b[39;00m\u001b[38;5;124m\"\u001b[39m)\n\u001b[1;32m     31\u001b[0m rroute \u001b[38;5;241m=\u001b[39m route\u001b[38;5;241m.\u001b[39mreverse()\n\u001b[0;32m---> 32\u001b[0m rroute[\u001b[38;5;241m0\u001b[39m]\u001b[38;5;241m.\u001b[39mappend(\u001b[38;5;241m0.0005\u001b[39m)\n\u001b[1;32m     33\u001b[0m \u001b[38;5;28mprint\u001b[39m(\u001b[38;5;124mf\u001b[39m\u001b[38;5;124m\"\u001b[39m\u001b[38;5;124mRoute reversed: \u001b[39m\u001b[38;5;132;01m{\u001b[39;00mroute\u001b[38;5;132;01m}\u001b[39;00m\u001b[38;5;124m\"\u001b[39m)\n\u001b[1;32m     34\u001b[0m \u001b[38;5;28;01mwhile\u001b[39;00m \u001b[38;5;28;01mTrue\u001b[39;00m:\n",
      "\u001b[0;31mTypeError\u001b[0m: 'NoneType' object is not subscriptable"
     ]
    },
    {
     "data": {
      "image/png": "[encoded data removed]",
      "text/plain": [
       "<Figure size 640x480 with 1 Axes>"
      ]
     },
     "metadata": {},
     "output_type": "display_data"
    }
   ],
   "source": [
    "route = []\n",
    "stepcounter = 0\n",
    "route.append([start_position[0], start_position[1]])\n",
    "newposx, newposy = 0, 0\n",
    "while True:\n",
    "    clear_output(True)\n",
    "    draw_board()\n",
    "    movex = choice(possible_moves)\n",
    "    movey = choice(possible_moves)\n",
    "    last_pos = route[-1]\n",
    "    if movex == movey or (movex != 0 and movey != 0):\n",
    "        continue\n",
    "    else:\n",
    "        newposx = last_pos[0] + movex\n",
    "        newposy = last_pos[1] + movey\n",
    "        if newposx >= 0 and newposx <= 3 and newposy >= 0 and newposy <= 3:\n",
    "            # print(f\"New pos: {newposx, newposy}\")\n",
    "            route.append([newposx, newposy])\n",
    "            plt.scatter(newposx, newposy, color=\"m\")\n",
    "        if newposx == target_position[0] and newposy == target_position[1]:\n",
    "            print(\"Target reached!\")\n",
    "            break\n",
    "        stepcounter += 1\n",
    "\n",
    "    plt.show()\n",
    "    # inp = input(\"Explore\")\n",
    "    # if inp == \"c\":\n",
    "    #     break\n",
    "print(f\"Route: {route}\")\n",
    "print(f\"Steps: {stepcounter}\")\n",
    "rroute = route.reverse()\n",
    "print(f\"Route reversed: {route}\")\n",
    "while True:\n",
    "    pass"
   ]
  },
  {
   "cell_type": "code",
   "execution_count": 53,
   "metadata": {},
   "outputs": [
    {
     "name": "stdout",
     "output_type": "stream",
     "text": [
      "[(1, 3), (1, 2), (1, 1), (1, 2), (2, 2), (2, 1), (3, 1), (2, 1), (2, 2), (2, 1), (2, 2), (1, 2), (2, 2), (3, 2)]\n",
      "{(1, 3): 1}\n",
      "[(1, 2), (1, 1), (1, 2), (2, 2), (2, 1), (3, 1), (2, 1), (2, 2), (2, 1), (2, 2), (1, 2), (2, 2), (3, 2)]\n",
      "{(1, 3): 1, (1, 2): 0.31381059609000006, (1, 1): 0.81, (2, 2): 0.2824295364810001, (2, 1): 0.3874204890000001, (3, 1): 0.531441, (3, 2): 0.2541865828329001}\n"
     ]
    }
   ],
   "source": [
    "testlist = [[1, 3], [1, 2], [1, 1], [1, 2], [2, 2], [2, 1], [3, 1], [2, 1], [2, 2], [2, 1], [2, 2], [1, 2], [2, 2], [3, 2]]\n",
    "ttlist = [tuple(x) for x in testlist]\n",
    "print(ttlist)\n",
    "vals = {ttlist[0]:1}\n",
    "ttlist.pop(0)\n",
    "print(vals)\n",
    "print(ttlist)\n",
    "q = 1\n",
    "reward = 0.9\n",
    "\n",
    "#countlist = {i for i in [tuple(x) for x in testlist]}\n",
    "for x in ttlist:\n",
    "    vals.update({x:math.pow(reward,q)})\n",
    "    q+=1\n",
    "print(vals)"
   ]
  },
  {
   "cell_type": "code",
   "execution_count": 60,
   "metadata": {},
   "outputs": [
    {
     "name": "stdout",
     "output_type": "stream",
     "text": [
      "[(1, 3), (1, 2), (1, 1), (1, 2), (2, 2), (2, 1), (3, 1), (2, 1), (2, 2), (2, 1), (2, 2), (1, 2), (2, 2), (3, 2)]\n",
      "[[(1, 3), 1]]\n",
      "[[(1, 3), 1], [(1, 2), 0.9], [(1, 1), 0.81], [(1, 2), 0.7290000000000001], [(2, 2), 0.6561], [(2, 1), 0.5904900000000001], [(3, 1), 0.531441], [(2, 1), 0.4782969000000001], [(2, 2), 0.4304672100000001], [(2, 1), 0.3874204890000001], [(2, 2), 0.3486784401000001], [(1, 2), 0.31381059609000006], [(2, 2), 0.2824295364810001], [(3, 2), 0.2541865828329001]]\n"
     ]
    }
   ],
   "source": [
    "testlist = [[1, 3], [1, 2], [1, 1], [1, 2], [2, 2], [2, 1], [3, 1], [2, 1], [2, 2], [2, 1], [2, 2], [1, 2], [2, 2], [3, 2]]\n",
    "ttlist = [tuple(x) for x in testlist]\n",
    "print(ttlist)\n",
    "vals = [[ttlist[0],1]]\n",
    "ttlist.pop(0)\n",
    "q = 1\n",
    "reward = 0.9\n",
    "print(vals)\n",
    "for x in ttlist:\n",
    "    vals.append([x,math.pow(reward,q)])\n",
    "    q+=1\n",
    "print(vals)"
   ]
  }
 ],
 "metadata": {
  "kernelspec": {
   "display_name": "Python 3.10.6 64-bit ('mlfh')",
   "language": "python",
   "name": "python3"
  },
  "language_info": {
   "codemirror_mode": {
    "name": "ipython",
    "version": 3
   },
   "file_extension": ".py",
   "mimetype": "text/x-python",
   "name": "python",
   "nbconvert_exporter": "python",
   "pygments_lexer": "ipython3",
   "version": "3.10.6"
  },
  "orig_nbformat": 4,
  "vscode": {
   "interpreter": {
    "hash": "5aaac674871e6fa794302712d94cd993d8b3a9a946c0c6adcdf7e17d4f30267d"
   }
  }
 },
 "nbformat": 4,
 "nbformat_minor": 2
}
