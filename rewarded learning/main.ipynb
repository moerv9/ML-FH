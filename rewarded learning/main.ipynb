{
 "cells": [
  {
   "cell_type": "code",
   "execution_count": 1,
   "metadata": {},
   "outputs": [],
   "source": [
    "from matplotlib import pyplot as plt\n",
    "import numpy as np\n",
    "from random import choice\n",
    "import time\n",
    "from IPython.display import clear_output\n",
    "from time import sleep \n",
    "import math\n",
    "import pandas as pd\n",
    "%matplotlib inline\n",
    "\n",
    "## Build Table Function\n",
    "def build_table(route):\n",
    "    route = [\n",
    "        tuple(x) for x in route\n",
    "    ]  # converts list into immutable list like [(1,3),(1,2)]\n",
    "    route = route[::-1]  # reverses the list to go the route backwards\n",
    "    vals = [(route[0], 1)]  # adds target position to list\n",
    "    multipliedrewards_list = dict.fromkeys(route)\n",
    "    route.pop(0)  # deletes target position from ttlist otherwise it would be a duplicate\n",
    "    q = 1\n",
    "    reward = 0.9\n",
    "    # create list with positions + rewarded values\n",
    "    for x in route:\n",
    "        vals.append([x, math.pow(reward, q)])\n",
    "        q += 1\n",
    "\n",
    "    # creates table with final reward values\n",
    "    # add value to table if not exist, otherwise multiply with existing value\n",
    "    pd.options.display.float_format = \"{:,.5g}\".format\n",
    "    df = pd.DataFrame(columns=[0, 1, 2, 3], index=[0, 1, 2, 3])\n",
    "    for x in vals:\n",
    "        mrl_temp = multipliedrewards_list.get(x[0])\n",
    "        if not mrl_temp:\n",
    "            multipliedrewards_list[x[0]] = x[1]\n",
    "        else:\n",
    "            multipliedrewards_list[x[0]] = x[1] * mrl_temp\n",
    "    for x in multipliedrewards_list:\n",
    "        df.at[x[0], x[1]] = multipliedrewards_list.get(x)\n",
    "\n",
    "    return multipliedrewards_list, df.transpose(copy=True)  # swap axis so they match the meshgrid with x and y values\n",
    "\n",
    "## Get adjacent reward values  next to current position\n",
    "nn = [-1, 1]\n",
    "def get_next_field_vals(df,xpos, ypos) -> np.ndarray:\n",
    "    nghb_values = []\n",
    "    for n in nn:\n",
    "        newposx = xpos + n  # xpos = startposition[0]\n",
    "        if newposx >= 0 and newposx <= 3:\n",
    "            nghb_values.append(df[xpos + n][ypos])\n",
    "        newposy = ypos + n\n",
    "        if newposy >= 0 and newposy <= 3:\n",
    "            nghb_values.append(df[xpos][ypos + n])\n",
    "    #print(f\"Neighbour values: {nghb_values}\")\n",
    "    u = np.unique(nghb_values)\n",
    "    u = u[np.isfinite(u)]\n",
    "    return u\n",
    "\n",
    "## Get the max value in a list\n",
    "def max_in_list(llist,max_value):\n",
    "    #print(f\"Max: {max_value}\")\n",
    "    for key, value in llist.items():\n",
    "        if value == max_value:\n",
    "            # print(\"field of max value:\")\n",
    "            # print(f\"Value: {value}\")\n",
    "            return key[0], key[1]"
   ]
  },
  {
   "cell_type": "code",
   "execution_count": 202,
   "metadata": {},
   "outputs": [
    {
     "name": "stdout",
     "output_type": "stream",
     "text": [
      "[nan]\n",
      "0\n"
     ]
    }
   ],
   "source": [
    "l = [np.nan,np.nan]\n",
    "u = np.unique(l)\n",
    "u = u[np.isfinite(u)]\n",
    "print(len(u))\n"
   ]
  },
  {
   "cell_type": "markdown",
   "metadata": {},
   "source": [
    "## Get start and target position"
   ]
  },
  {
   "cell_type": "code",
   "execution_count": 10,
   "metadata": {},
   "outputs": [
    {
     "data": {
      "image/png": "[encoded data removed]",
      "text/plain": [
       "<Figure size 600x600 with 1 Axes>"
      ]
     },
     "metadata": {},
     "output_type": "display_data"
    }
   ],
   "source": [
    "GRID_SIZE = 4 #@param {type:\"slider\", min:4, max:16, step:1}\n",
    "x = range(GRID_SIZE)\n",
    "y = range(GRID_SIZE)\n",
    "h, v = np.meshgrid(x, y)  # rect grid with vector coordinates (X,Y)\n",
    "# min_max = np.min(x), np.max(x), np.min(y), np.max(y)\n",
    "res = np.add.outer(range(4), range(4)) % 2  # returns product of two vectors\n",
    "positions = np.vstack([h.ravel(), v.ravel()]).T\n",
    "\n",
    "while True:\n",
    "    start_position = choice(positions)\n",
    "    target_position = choice(positions)\n",
    "    dist = np.subtract(target_position,start_position)\n",
    "    not_allowed = [[-1,0],[1,0],[0,1],[0,-1],[0,0]]\n",
    "    #print(start_position, target_position, dist)\n",
    "    if (np.not_equal(dist,not_allowed)).all():\n",
    "        break\n",
    "\n",
    "#start_position, target_position = get_start_positions()\n",
    "plt.ion()\n",
    "fig = plt.figure(figsize=(6, 6))\n",
    "ax = fig.add_subplot()\n",
    "possible_moves = [-1, 0, 1]\n",
    "ax.invert_yaxis()\n",
    "ax.xaxis.tick_top()\n",
    "#ax.cla()\n",
    "\n",
    "def draw_board(xpos,ypos,color):\n",
    "    ax = plt.gca()\n",
    "    ax.scatter(xpos, ypos, color=color)\n",
    "    fig.canvas.draw_idle()\n",
    "    fig.canvas.flush_events()\n",
    "    draw_image()\n",
    "    #target_dot = ax.scatter(target_position[0], target_position[1], color=\"g\")\n",
    "    #return ax\n",
    "\n",
    "def draw_image():\n",
    "    plt.imshow(res, cmap=\"tab20c\")\n",
    "    \n",
    "def draw_start():\n",
    "    if not np.array_equal(start_position, target_position):\n",
    "        draw_board(start_position[0],start_position[1],color=\"r\")\n",
    "        draw_board(target_position[0],target_position[1],color=\"g\")\n",
    "draw_start()"
   ]
  },
  {
   "cell_type": "markdown",
   "metadata": {},
   "source": [
    "## Explore"
   ]
  },
  {
   "cell_type": "code",
   "execution_count": 11,
   "metadata": {},
   "outputs": [
    {
     "name": "stdout",
     "output_type": "stream",
     "text": [
      "Target reached.\n"
     ]
    },
    {
     "data": {
      "image/png": "[encoded data removed]",
      "text/plain": [
       "<Figure size 640x480 with 1 Axes>"
      ]
     },
     "metadata": {},
     "output_type": "display_data"
    },
    {
     "name": "stdout",
     "output_type": "stream",
     "text": [
      "Total Steps: 27\n",
      "Route: [(0, 0), (0, 1), (0, 2), (1, 2), (1, 1), (1, 0), (2, 0), (3, 0), (3, 1), (2, 1), (2, 2), (3, 2), (3, 1), (2, 1), (1, 1), (1, 2), (0, 2), (1, 2), (0, 2), (1, 2), (0, 2), (1, 2), (1, 3), (0, 3), (0, 2), (1, 2), (1, 3), (2, 3)]\n"
     ]
    },
    {
     "data": {
      "text/html": [
       "<div>\n",
       "<style scoped>\n",
       "    .dataframe tbody tr th:only-of-type {\n",
       "        vertical-align: middle;\n",
       "    }\n",
       "\n",
       "    .dataframe tbody tr th {\n",
       "        vertical-align: top;\n",
       "    }\n",
       "\n",
       "    .dataframe thead th {\n",
       "        text-align: right;\n",
       "    }\n",
       "</style>\n",
       "<table border=\"1\" class=\"dataframe\">\n",
       "  <thead>\n",
       "    <tr style=\"text-align: right;\">\n",
       "      <th></th>\n",
       "      <th>0</th>\n",
       "      <th>1</th>\n",
       "      <th>2</th>\n",
       "      <th>3</th>\n",
       "    </tr>\n",
       "  </thead>\n",
       "  <tbody>\n",
       "    <tr>\n",
       "      <th>0</th>\n",
       "      <td>0.05815</td>\n",
       "      <td>0.098477</td>\n",
       "      <td>0.10942</td>\n",
       "      <td>0.12158</td>\n",
       "    </tr>\n",
       "    <tr>\n",
       "      <th>1</th>\n",
       "      <td>0.064611</td>\n",
       "      <td>0.022528</td>\n",
       "      <td>0.034337</td>\n",
       "      <td>0.027813</td>\n",
       "    </tr>\n",
       "    <tr>\n",
       "      <th>2</th>\n",
       "      <td>0.0030433</td>\n",
       "      <td>0.0014556</td>\n",
       "      <td>0.16677</td>\n",
       "      <td>0.1853</td>\n",
       "    </tr>\n",
       "    <tr>\n",
       "      <th>3</th>\n",
       "      <td>0.6561</td>\n",
       "      <td>0.53144</td>\n",
       "      <td>1</td>\n",
       "      <td>NaN</td>\n",
       "    </tr>\n",
       "  </tbody>\n",
       "</table>\n",
       "</div>"
      ],
      "text/plain": [
       "          0         1        2        3\n",
       "0   0.05815  0.098477  0.10942  0.12158\n",
       "1  0.064611  0.022528 0.034337 0.027813\n",
       "2 0.0030433 0.0014556  0.16677   0.1853\n",
       "3    0.6561   0.53144        1      NaN"
      ]
     },
     "execution_count": 11,
     "metadata": {},
     "output_type": "execute_result"
    }
   ],
   "source": [
    "route = []\n",
    "\n",
    "route.append((start_position[0], start_position[1]))\n",
    "newposx, newposy = 0, 0\n",
    "# testlist = [[0, 0], [1, 0], [0, 0], [1, 0], [1, 1], [1, 2], [0, 2], [0, 1], [0, 2], [0, 1], [0, 2], [0, 1], [1, 1], [2, 1], [2, 0]]\n",
    "SLEEP = 0 #@param{type: 'number'}\n",
    "\n",
    "plt.ion()\n",
    "def move(mode=\"explore\", route=route, sleep_time=SLEEP):\n",
    "    stepcounter = 0\n",
    "    while True:\n",
    "    \n",
    "        #clear_output(True)\n",
    "        sleep(sleep_time)\n",
    "        last_pos = route[-1]\n",
    "        movex = choice(possible_moves)\n",
    "        movey = choice(possible_moves)\n",
    "        if not movex == movey:\n",
    "            if movex == 0 or movey == 0:\n",
    "                newposx = last_pos[0] + movex\n",
    "                newposy = last_pos[1] + movey\n",
    "                ax = plt.gca()\n",
    "                #ax.cla()\n",
    "                if newposx >= 0 and newposx <= 3 and newposy >= 0 and newposy <= 3:\n",
    "                    # print(f\"New pos: {newposx, newposy}\")\n",
    "                    route.append((newposx, newposy))\n",
    "                    draw_board(newposx, newposy, color=\"m\")\n",
    "                    #ax.scatter(newposx, newposy, color=\"m\")\n",
    "                    #plt.show()\n",
    "                    stepcounter += 1\n",
    "                if newposx == target_position[0] and newposy == target_position[1]:\n",
    "                    print(\"Target reached.\")\n",
    "                    draw_start()\n",
    "                    plt.show()\n",
    "                    break\n",
    "\n",
    "    return route, stepcounter\n",
    "\n",
    "route, stepcounter = move(\"explore\", route=route)\n",
    "print(f\"Total Steps: {stepcounter}\")\n",
    "print(f\"Route: {route}\", sep=\"\\n\")\n",
    "\n",
    "rewardslist, df = build_table(route)\n",
    "df"
   ]
  },
  {
   "cell_type": "code",
   "execution_count": null,
   "metadata": {},
   "outputs": [],
   "source": [
    "## Print out rewards for each position\n",
    "for key, value in rewardslist.items():\n",
    "    print(key, value)"
   ]
  },
  {
   "cell_type": "markdown",
   "metadata": {},
   "source": [
    "## Exploit\n",
    "Er soll alle felder drumherum checken und dann den nächst höheren nehmen \n",
    "danach: wenn die felder einen bestimmten Treshhold nicht überschreiten, nimm random.\n"
   ]
  },
  {
   "cell_type": "code",
   "execution_count": 12,
   "metadata": {},
   "outputs": [
    {
     "name": "stdout",
     "output_type": "stream",
     "text": [
      "[(0, 0)]\n",
      "[(0, 0), (1, 0)]\n",
      "[(0, 0), (1, 0), (2, 0)]\n",
      "[(0, 0), (1, 0), (2, 0), (3, 0)]\n",
      "[(0, 0), (1, 0), (2, 0), (3, 0), (3, 1)]\n",
      "[(0, 0), (1, 0), (2, 0), (3, 0), (3, 1), (3, 2)]\n",
      "[(0, 0), (1, 0), (2, 0), (3, 0), (3, 1), (3, 2), (2, 2)]\n",
      "Target reached!\n"
     ]
    },
    {
     "data": {
      "image/png": "[encoded data removed]",
      "text/plain": [
       "<Figure size 640x480 with 1 Axes>"
      ]
     },
     "metadata": {},
     "output_type": "display_data"
    },
    {
     "name": "stdout",
     "output_type": "stream",
     "text": [
      "Total Steps: 6\n",
      "Route: [(0, 0), (1, 0), (2, 0), (3, 0), (3, 1), (3, 2), (2, 2)]\n"
     ]
    }
   ],
   "source": [
    "## allows to go back to old fields\n",
    "route = []\n",
    "stepcounter = 0\n",
    "SLEEP = 1  #@param{type: 'number'}\n",
    "route.append((start_position[0], start_position[1]))\n",
    "\n",
    "while True:\n",
    "    #clear_output(True)\n",
    "    print(route)\n",
    "    last_pos = route[-1]\n",
    "    next_field_vals = get_next_field_vals(df,last_pos[0],last_pos[1])\n",
    "    #print(f\"nextfields: {next_field_vals}\")\n",
    "    newpos =  max_in_list(rewardslist,next_field_vals[-1])# best next field with highest value\n",
    "    ax = plt.gca()\n",
    "    #draw_board()\n",
    "    sleep(SLEEP)\n",
    "    if newpos[0] == target_position[0] and newpos[1] == target_position[1]:\n",
    "        print(\"Target reached!\")\n",
    "        plt.show()\n",
    "        break\n",
    "    if newpos in route:\n",
    "        if next_field_vals.size != 1:\n",
    "            newpos =  max_in_list(rewardslist,next_field_vals[-2])# best next field with highest value\n",
    "    route.append((newpos[0], newpos[1]))\n",
    "    draw_board(newpos[0], newpos[1], color=\"m\")\n",
    "    draw_start()\n",
    "    #plt.show()\n",
    "    fig.canvas.draw_idle()\n",
    "    stepcounter += 1\n",
    "\n",
    "print(f\"Total Steps: {stepcounter}\")\n",
    "print(f\"Route: {route}\", sep=\"\\n\")  "
   ]
  },
  {
   "cell_type": "markdown",
   "metadata": {},
   "source": [
    "## Exploit 2.o"
   ]
  },
  {
   "cell_type": "code",
   "execution_count": 213,
   "metadata": {},
   "outputs": [
    {
     "ename": "KeyboardInterrupt",
     "evalue": "",
     "output_type": "error",
     "traceback": [
      "\u001b[0;31m---------------------------------------------------------------------------\u001b[0m",
      "\u001b[0;31mKeyboardInterrupt\u001b[0m                         Traceback (most recent call last)",
      "Cell \u001b[0;32mIn [213], line 8\u001b[0m\n\u001b[1;32m      6\u001b[0m \u001b[38;5;28;01mwhile\u001b[39;00m \u001b[38;5;28;01mTrue\u001b[39;00m:\n\u001b[1;32m      7\u001b[0m     clear_output(\u001b[38;5;28;01mTrue\u001b[39;00m)\n\u001b[0;32m----> 8\u001b[0m     sleep(SLEEP)\n\u001b[1;32m      9\u001b[0m     ax \u001b[38;5;241m=\u001b[39m draw_board()\n\u001b[1;32m     10\u001b[0m     \u001b[38;5;28mprint\u001b[39m(route)\n",
      "\u001b[0;31mKeyboardInterrupt\u001b[0m: "
     ]
    },
    {
     "data": {
      "image/png": "[encoded data removed]",
      "text/plain": [
       "<Figure size 640x480 with 1 Axes>"
      ]
     },
     "metadata": {},
     "output_type": "display_data"
    }
   ],
   "source": [
    "route = []\n",
    "stepcounter = 0\n",
    "SLEEP = 5 \n",
    "route.append((start_position[0], start_position[1]))\n",
    "\n",
    "while True:\n",
    "    clear_output(True)\n",
    "    sleep(SLEEP)\n",
    "    ax = draw_board()\n",
    "    print(route)\n",
    "    last_pos = route[-1]\n",
    "    next_field_vals = get_next_field_vals(df,last_pos[0],last_pos[1])\n",
    "    print(f\"nextfields: {next_field_vals}\")\n",
    "    newpos =  max_in_list(rewardslist,next_field_vals[-1])# best next field with highest value\n",
    "\n",
    "    if newpos[0] == target_position[0] and newpos[1] == target_position[1]:\n",
    "        print(\"Target reached!\")\n",
    "        plt.show()\n",
    "        break\n",
    "    if newpos in route and len(next_field_vals) > 1:\n",
    "        newpos =  max_in_list(rewardslist,next_field_vals[-2])# best next field with highest value\n",
    "        stepcounter += 1\n",
    "        route.append((newpos[0], newpos[1]))\n",
    "        ax.scatter(newpos[0], newpos[1], color=\"m\")\n",
    "        plt.show()\n",
    "    # else:\n",
    "    #     movex = choice(possible_moves)\n",
    "    #     movey = choice(possible_moves)\n",
    "    #     if not movex == movey:\n",
    "    #         if movex == 0 or movey == 0:\n",
    "    #             newposx = last_pos[0] + movex\n",
    "    #             newposy = last_pos[1] + movey\n",
    "    #             ax = plt.gca()\n",
    "    #             if newposx >= 0 and newposx <= 3 and newposy >= 0 and newposy <= 3:\n",
    "    #                 # print(f\"New pos: {newposx, newposy}\")\n",
    "    #                 route.append((newposx, newposy))\n",
    "    #                 ax.scatter(newposx, newposy, color=\"m\")\n",
    "    #                 plt.show()\n",
    "    #                 stepcounter += 1\n",
    "    \n",
    "\n",
    "print(f\"Total Steps: {stepcounter}\")\n",
    "print(f\"Route: {route}\", sep=\"\\n\")  \n",
    "\n"
   ]
  }
 ],
 "metadata": {
  "kernelspec": {
   "display_name": "Python 3.10.6 64-bit ('mlfh')",
   "language": "python",
   "name": "python3"
  },
  "language_info": {
   "codemirror_mode": {
    "name": "ipython",
    "version": 3
   },
   "file_extension": ".py",
   "mimetype": "text/x-python",
   "name": "python",
   "nbconvert_exporter": "python",
   "pygments_lexer": "ipython3",
   "version": "3.10.6"
  },
  "orig_nbformat": 4,
  "vscode": {
   "interpreter": {
    "hash": "5aaac674871e6fa794302712d94cd993d8b3a9a946c0c6adcdf7e17d4f30267d"
   }
  }
 },
 "nbformat": 4,
 "nbformat_minor": 2
}
