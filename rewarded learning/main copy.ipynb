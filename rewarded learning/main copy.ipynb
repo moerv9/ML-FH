{
 "cells": [
  {
   "cell_type": "code",
   "execution_count": 4,
   "metadata": {},
   "outputs": [],
   "source": [
    "from matplotlib import pyplot as plt\n",
    "import numpy as np\n",
    "from random import choice\n",
    "import time\n",
    "from IPython.display import clear_output\n",
    "from time import sleep \n",
    "import math\n",
    "import pandas as pd\n",
    "%matplotlib inline"
   ]
  },
  {
   "cell_type": "markdown",
   "metadata": {},
   "source": [
    "## Draw initial plot"
   ]
  },
  {
   "cell_type": "code",
   "execution_count": 134,
   "metadata": {},
   "outputs": [
    {
     "data": {
      "image/png": "[encoded data removed]",
      "text/plain": [
       "<Figure size 600x600 with 1 Axes>"
      ]
     },
     "metadata": {},
     "output_type": "display_data"
    }
   ],
   "source": [
    "x = range(4)\n",
    "y = range(4)\n",
    "h,v = np.meshgrid(x,y)  #rect grid with vector coordinates (X,Y)\n",
    "#min_max = np.min(x), np.max(x), np.min(y), np.max(y) \n",
    "res = np.add.outer(range(4), range(4))%2  # returns product of two vectors\n",
    "positions=np.vstack([h.ravel(), v.ravel()]).T\n",
    "start_position = choice(positions)\n",
    "target_position = choice(positions)\n",
    "possible_moves = [-1, 0, 1]\n",
    "\n",
    "fig = plt.figure(figsize=(6,6))\n",
    "ax = fig.add_subplot()\n",
    "\n",
    "def draw_board():\n",
    "    ax = plt.gca()\n",
    "    ax.cla()\n",
    "    ax.invert_yaxis()\n",
    "    ax.xaxis.tick_top()\n",
    "    start_dot = ax.scatter(start_position[0],start_position[1],color=\"r\")\n",
    "    target_dot = ax.scatter(target_position[0],target_position[1],color=\"g\")\n",
    "    plt.imshow(res, cmap=\"tab20c\")\n",
    "\n",
    "if not np.array_equal(start_position,target_position):\n",
    "    draw_board()\n"
   ]
  },
  {
   "cell_type": "markdown",
   "metadata": {},
   "source": [
    "## Explore"
   ]
  },
  {
   "cell_type": "code",
   "execution_count": 135,
   "metadata": {},
   "outputs": [
    {
     "data": {
      "image/png": "[encoded data removed]",
      "text/plain": [
       "<Figure size 640x480 with 1 Axes>"
      ]
     },
     "metadata": {},
     "output_type": "display_data"
    },
    {
     "name": "stdout",
     "output_type": "stream",
     "text": [
      "Target reached!\n",
      "Total Steps: 19\n",
      "Route: [[0, 0], [1, 0], [2, 0], [3, 0], [2, 0], [3, 0], [2, 0], [3, 0], [3, 1], [2, 1], [3, 1], [2, 1], [2, 2]]\n"
     ]
    }
   ],
   "source": [
    "route = []\n",
    "stepcounter = 0\n",
    "route.append([start_position[0], start_position[1]])\n",
    "newposx, newposy = 0, 0\n",
    "\n",
    "while True:\n",
    "    clear_output(True)\n",
    "    movex = choice(possible_moves)\n",
    "    movey = choice(possible_moves)\n",
    "    last_pos = route[-1]\n",
    "    draw_board()\n",
    "    sleep(0.2)\n",
    "    if not movex == movey:\n",
    "        if movex == 0 or movey == 0:\n",
    "            newposx = last_pos[0] + movex\n",
    "            newposy = last_pos[1] + movey\n",
    "            if newposx >= 0 and newposx <= 3 and newposy >= 0 and newposy <= 3:\n",
    "                # print(f\"New pos: {newposx, newposy}\")\n",
    "                route.append([newposx, newposy])\n",
    "                plt.scatter(newposx, newposy, color=\"m\")\n",
    "                plt.show()\n",
    "            if newposx == target_position[0] and newposy == target_position[1]:\n",
    "                print(\"Target reached!\")\n",
    "                \n",
    "                plt.show()\n",
    "                break\n",
    "            stepcounter += 1\n",
    "\n",
    "print(f\"Total Steps: {stepcounter}\")\n",
    "print(f\"Route: {route}\",sep=\"\\n\")\n"
   ]
  },
  {
   "cell_type": "markdown",
   "metadata": {},
   "source": [
    "## Build Table"
   ]
  },
  {
   "cell_type": "code",
   "execution_count": 136,
   "metadata": {},
   "outputs": [
    {
     "data": {
      "text/html": [
       "<div>\n",
       "<style scoped>\n",
       "    .dataframe tbody tr th:only-of-type {\n",
       "        vertical-align: middle;\n",
       "    }\n",
       "\n",
       "    .dataframe tbody tr th {\n",
       "        vertical-align: top;\n",
       "    }\n",
       "\n",
       "    .dataframe thead th {\n",
       "        text-align: right;\n",
       "    }\n",
       "</style>\n",
       "<table border=\"1\" class=\"dataframe\">\n",
       "  <thead>\n",
       "    <tr style=\"text-align: right;\">\n",
       "      <th></th>\n",
       "      <th>0</th>\n",
       "      <th>1</th>\n",
       "      <th>2</th>\n",
       "      <th>3</th>\n",
       "    </tr>\n",
       "  </thead>\n",
       "  <tbody>\n",
       "    <tr>\n",
       "      <th>0</th>\n",
       "      <td>0.28243</td>\n",
       "      <td>0.31381</td>\n",
       "      <td>0.079766</td>\n",
       "      <td>0.10942</td>\n",
       "    </tr>\n",
       "    <tr>\n",
       "      <th>1</th>\n",
       "      <td>NaN</td>\n",
       "      <td>NaN</td>\n",
       "      <td>0.6561</td>\n",
       "      <td>0.53144</td>\n",
       "    </tr>\n",
       "    <tr>\n",
       "      <th>2</th>\n",
       "      <td>NaN</td>\n",
       "      <td>NaN</td>\n",
       "      <td>1</td>\n",
       "      <td>NaN</td>\n",
       "    </tr>\n",
       "    <tr>\n",
       "      <th>3</th>\n",
       "      <td>NaN</td>\n",
       "      <td>NaN</td>\n",
       "      <td>NaN</td>\n",
       "      <td>NaN</td>\n",
       "    </tr>\n",
       "  </tbody>\n",
       "</table>\n",
       "</div>"
      ],
      "text/plain": [
       "        0       1        2       3\n",
       "0 0.28243 0.31381 0.079766 0.10942\n",
       "1     NaN     NaN   0.6561 0.53144\n",
       "2     NaN     NaN        1     NaN\n",
       "3     NaN     NaN      NaN     NaN"
      ]
     },
     "execution_count": 136,
     "metadata": {},
     "output_type": "execute_result"
    }
   ],
   "source": [
    "# testlist = [[0, 0], [1, 0], [0, 0], [1, 0], [1, 1], [1, 2], [0, 2], [0, 1], [0, 2], [0, 1], [0, 2], [0, 1], [1, 1], [2, 1], [2, 0]]\n",
    "i_list = [\n",
    "    tuple(x) for x in route\n",
    "]  # converts list into immutable list like [(1,3),(1,2)]\n",
    "i_list = i_list[::-1]  # reverses the list to go the route backwards\n",
    "vals = [[i_list[0], 1]]  # adds target position to list\n",
    "multipliedrewards_list = dict.fromkeys(i_list)\n",
    "i_list.pop(0)  # deletes target position from ttlist otherwise it would be a duplicate\n",
    "q = 1\n",
    "reward = 0.9\n",
    "# create list with positions + rewarded values\n",
    "for x in i_list:\n",
    "    vals.append([x, math.pow(reward, q)])\n",
    "    q += 1\n",
    "\n",
    "# creates table with final reward values\n",
    "# add value to table if not exist, otherwise multiply with existing value\n",
    "pd.options.display.float_format = \"{:,.5g}\".format\n",
    "df = pd.DataFrame(columns=[0, 1, 2, 3], index=[0, 1, 2, 3])\n",
    "for x in vals:\n",
    "    mrl_temp = multipliedrewards_list.get(x[0])\n",
    "    if not mrl_temp:\n",
    "        multipliedrewards_list[x[0]] = x[1]\n",
    "    else:\n",
    "        multipliedrewards_list[x[0]] = x[1] * mrl_temp\n",
    "for x in multipliedrewards_list:\n",
    "    df.at[x[0], x[1]] = multipliedrewards_list.get(x)\n",
    "\n",
    "df_match_mesh = df.transpose(copy=True)  # swap axis so they match the meshgrid with x and y values\n",
    "df_match_mesh"
   ]
  },
  {
   "cell_type": "markdown",
   "metadata": {},
   "source": [
    "## Exploit\n",
    "Er soll alle felder drumherum checken und dann den nächst höheren nehmen \n",
    "danach: wenn die felder einen bestimmten Treshhold nicht überschreiten, nimm random.\n"
   ]
  },
  {
   "cell_type": "code",
   "execution_count": 137,
   "metadata": {},
   "outputs": [
    {
     "name": "stdout",
     "output_type": "stream",
     "text": [
      "(2, 2) 1\n",
      "(2, 1) 0.6561000000000001\n",
      "(3, 1) 0.531441\n",
      "(3, 0) 0.1094189891315124\n",
      "(2, 0) 0.07976644307687256\n",
      "(1, 0) 0.31381059609000006\n",
      "(0, 0) 0.2824295364810001\n"
     ]
    }
   ],
   "source": [
    "for key, value in multipliedrewards_list.items():\n",
    "    print(key, value)"
   ]
  },
  {
   "cell_type": "code",
   "execution_count": 147,
   "metadata": {},
   "outputs": [
    {
     "name": "stdout",
     "output_type": "stream",
     "text": [
      "lastPOS: [1, 0]\n",
      "(0, 0)\n"
     ]
    },
    {
     "ename": "KeyboardInterrupt",
     "evalue": "",
     "output_type": "error",
     "traceback": [
      "\u001b[0;31m---------------------------------------------------------------------------\u001b[0m",
      "\u001b[0;31mKeyboardInterrupt\u001b[0m                         Traceback (most recent call last)",
      "Cell \u001b[0;32mIn [147], line 44\u001b[0m\n\u001b[1;32m     42\u001b[0m     \u001b[38;5;28mprint\u001b[39m(\u001b[38;5;124m\"\u001b[39m\u001b[38;5;124mFuck\u001b[39m\u001b[38;5;124m\"\u001b[39m)\n\u001b[1;32m     43\u001b[0m draw_board()\n\u001b[0;32m---> 44\u001b[0m sleep(\u001b[38;5;241m0.2\u001b[39m)\n\u001b[1;32m     45\u001b[0m route\u001b[38;5;241m.\u001b[39mappend([newpos[\u001b[38;5;241m0\u001b[39m], newpos[\u001b[38;5;241m1\u001b[39m]])\n\u001b[1;32m     46\u001b[0m plt\u001b[38;5;241m.\u001b[39mscatter(newpos[\u001b[38;5;241m0\u001b[39m], newpos[\u001b[38;5;241m1\u001b[39m], color\u001b[38;5;241m=\u001b[39m\u001b[38;5;124m\"\u001b[39m\u001b[38;5;124mm\u001b[39m\u001b[38;5;124m\"\u001b[39m)\n",
      "\u001b[0;31mKeyboardInterrupt\u001b[0m: "
     ]
    },
    {
     "data": {
      "image/png": "[encoded data removed]",
      "text/plain": [
       "<Figure size 640x480 with 1 Axes>"
      ]
     },
     "metadata": {},
     "output_type": "display_data"
    }
   ],
   "source": [
    "# test get max value from anliegenden feldern\n",
    "# print(multipliedrewards_list)\n",
    "# print(df.at[start_position[0], start_position[1]])\n",
    "# print(df.iloc[start_position[0]][start_position[1]])\n",
    "\n",
    "nn = [-1, 1]\n",
    "\n",
    "\n",
    "def get_max_field(xpos, ypos):\n",
    "    nghb_values = []\n",
    "    for n in nn:\n",
    "        newposx = xpos + n  # xpos = startposition[0]\n",
    "        if newposx >= 0 and newposx <= 3:\n",
    "            nghb_values.append(df_match_mesh[xpos + n][ypos])\n",
    "        newposy = ypos + n\n",
    "        if newposy >= 0 and newposy <= 3:\n",
    "            nghb_values.append(df_match_mesh[xpos][ypos + n])\n",
    "    # print(f\"Neighbour values: {nghb_values}\")\n",
    "    max_value = max(nghb_values)\n",
    "    # print(f\"Max: {max_value}\")\n",
    "    for key, value in multipliedrewards_list.items():\n",
    "        if value == max_value:\n",
    "            # print(\"field of max value:\")\n",
    "            # print(f\"Value: {value}\")\n",
    "            return key[0], key[1]\n",
    "\n",
    "\n",
    "route = []\n",
    "stepcounter = 0\n",
    "route.append([start_position[0], start_position[1]])\n",
    "\n",
    "while True:\n",
    "    clear_output(True)\n",
    "    last_pos = route[-1]\n",
    "    print(f\"lastPOS: {last_pos}\")\n",
    "    newpos = get_max_field(\n",
    "        last_pos[0], last_pos[1]\n",
    "    )  # best next field with highest value\n",
    "    print(newpos)\n",
    "    if last_pos == newpos:\n",
    "        print(\"Fuck\")\n",
    "    draw_board()\n",
    "    sleep(0.2)\n",
    "    route.append([newpos[0], newpos[1]])\n",
    "    plt.scatter(newpos[0], newpos[1], color=\"m\")\n",
    "    plt.show()\n",
    "    if newpos[0] == target_position[0] and newpos[1] == target_position[1]:\n",
    "        print(\"Target reached!\")\n",
    "        plt.show()\n",
    "        break\n",
    "    stepcounter += 1\n",
    "\n",
    "print(f\"Total Steps: {stepcounter}\")\n",
    "print(f\"Route: {route}\", sep=\"\\n\")"
   ]
  }
 ],
 "metadata": {
  "kernelspec": {
   "display_name": "Python 3.10.6 64-bit ('mlfh')",
   "language": "python",
   "name": "python3"
  },
  "language_info": {
   "codemirror_mode": {
    "name": "ipython",
    "version": 3
   },
   "file_extension": ".py",
   "mimetype": "text/x-python",
   "name": "python",
   "nbconvert_exporter": "python",
   "pygments_lexer": "ipython3",
   "version": "3.10.6"
  },
  "orig_nbformat": 4,
  "vscode": {
   "interpreter": {
    "hash": "5aaac674871e6fa794302712d94cd993d8b3a9a946c0c6adcdf7e17d4f30267d"
   }
  }
 },
 "nbformat": 4,
 "nbformat_minor": 2
}
